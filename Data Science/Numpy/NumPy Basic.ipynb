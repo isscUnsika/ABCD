{
  "cells": [
    {
      "cell_type": "code",
      "execution_count": 1,
      "id": "5f18f56c",
      "metadata": {
        "id": "5f18f56c"
      },
      "outputs": [],
      "source": [
        "#import Library NumPy\n",
        "import numpy as np"
      ]
    },
    {
      "cell_type": "markdown",
      "source": [
        "**Numpy Array**\n",
        "\n",
        "Array NumPy adalah cara utama kita akan menggunakan Numpy selama kursus. Array Numpy pada dasarnya masuk\n",
        "dua rasa: vektor dan matriks. Vektor benar-benar array 1-d dan matriks 2-d (tetapi Anda harus mencatat a\n",
        "matriks masih dapat memiliki hanya satu baris atau satu kolom).\n",
        "\n",
        "**Membuat Array NumPy**\n",
        "\n",
        "**Dari Daftar Python**\n",
        "\n",
        "Kita dapat membuat array dengan langsung mengonversi daftar atau daftar daftar:"
      ],
      "metadata": {
        "id": "xMNwu1ZiA_Dj"
      },
      "id": "xMNwu1ZiA_Dj"
    },
    {
      "cell_type": "code",
      "execution_count": 2,
      "id": "ba468288",
      "metadata": {
        "id": "ba468288"
      },
      "outputs": [],
      "source": [
        "#membuat list dengan nama my_list\n",
        "my_list = [1,2,3]"
      ]
    },
    {
      "cell_type": "code",
      "execution_count": 3,
      "id": "d1fddd6b",
      "metadata": {
        "colab": {
          "base_uri": "https://localhost:8080/"
        },
        "id": "d1fddd6b",
        "outputId": "6e4cfc4e-0c60-4beb-d7b5-c1786d0871fa"
      },
      "outputs": [
        {
          "output_type": "execute_result",
          "data": {
            "text/plain": [
              "array([1, 2, 3])"
            ]
          },
          "metadata": {},
          "execution_count": 3
        }
      ],
      "source": [
        "#membuat array menggunakan Numpy dengan data list my_list\n",
        "np.array(my_list)"
      ]
    },
    {
      "cell_type": "code",
      "execution_count": 4,
      "id": "7c4d0633",
      "metadata": {
        "id": "7c4d0633"
      },
      "outputs": [],
      "source": [
        "#membuat matriks dengan nama my_matrix\n",
        "my_matrix = [[1,2,3],[4,5,6],[7,8,9]]"
      ]
    },
    {
      "cell_type": "code",
      "execution_count": 5,
      "id": "bb1165a3",
      "metadata": {
        "colab": {
          "base_uri": "https://localhost:8080/"
        },
        "id": "bb1165a3",
        "outputId": "ddf5480f-0194-4691-d456-4ab3a3e63b6a"
      },
      "outputs": [
        {
          "output_type": "execute_result",
          "data": {
            "text/plain": [
              "[[1, 2, 3], [4, 5, 6], [7, 8, 9]]"
            ]
          },
          "metadata": {},
          "execution_count": 5
        }
      ],
      "source": [
        "#meng-print hasil my_matrix\n",
        "my_matrix"
      ]
    },
    {
      "cell_type": "code",
      "execution_count": 6,
      "id": "c7fed45e",
      "metadata": {
        "colab": {
          "base_uri": "https://localhost:8080/"
        },
        "id": "c7fed45e",
        "outputId": "6329551b-64cb-4e2e-f85d-c5a595a6fca1"
      },
      "outputs": [
        {
          "output_type": "execute_result",
          "data": {
            "text/plain": [
              "array([[1, 2, 3],\n",
              "       [4, 5, 6],\n",
              "       [7, 8, 9]])"
            ]
          },
          "metadata": {},
          "execution_count": 6
        }
      ],
      "source": [
        "#membuat array menggunakan NumPy dengan data matriks my_matrix\n",
        "np.array(my_matrix)"
      ]
    },
    {
      "cell_type": "markdown",
      "source": [
        "**Metode Bawaan**\n",
        "\n",
        "Ada banyak cara bawaan untuk menghasilkan Array\n",
        "\n",
        "**mengatur**\n",
        "\n",
        "Mengembalikan nilai dengan jarak yang sama dalam interval tertentu."
      ],
      "metadata": {
        "id": "NFlyMq_0Bq0q"
      },
      "id": "NFlyMq_0Bq0q"
    },
    {
      "cell_type": "code",
      "execution_count": 7,
      "id": "037ab492",
      "metadata": {
        "colab": {
          "base_uri": "https://localhost:8080/"
        },
        "id": "037ab492",
        "outputId": "16a8bba6-5320-463f-d3cc-001f28eb0c7d"
      },
      "outputs": [
        {
          "output_type": "execute_result",
          "data": {
            "text/plain": [
              "array([1, 3])"
            ]
          },
          "metadata": {},
          "execution_count": 7
        }
      ],
      "source": [
        "#membuat fungsi arange dengan awalan 1 sampai kurang dari 5 dengan kelipatan 2\n",
        "np.arange(1,5,2)"
      ]
    },
    {
      "cell_type": "code",
      "execution_count": 8,
      "id": "ea8edb09",
      "metadata": {
        "colab": {
          "base_uri": "https://localhost:8080/"
        },
        "id": "ea8edb09",
        "outputId": "2db6999e-cb59-4576-ee4f-1f2e7f5ad9aa"
      },
      "outputs": [
        {
          "output_type": "execute_result",
          "data": {
            "text/plain": [
              "array([1, 2, 3, 4, 5, 6, 7, 8, 9])"
            ]
          },
          "metadata": {},
          "execution_count": 8
        }
      ],
      "source": [
        "#membuat fungsi arange dengan awalan 1 sampai dengan 10\n",
        "np.arange(1,10)"
      ]
    },
    {
      "cell_type": "code",
      "execution_count": 9,
      "id": "a2a2ca31",
      "metadata": {
        "colab": {
          "base_uri": "https://localhost:8080/"
        },
        "id": "a2a2ca31",
        "outputId": "81643456-1126-4279-a45b-d8bff1e639e9"
      },
      "outputs": [
        {
          "output_type": "execute_result",
          "data": {
            "text/plain": [
              "array([1. , 1.5, 2. , 2.5, 3. , 3.5, 4. , 4.5, 5. , 5.5, 6. , 6.5, 7. ,\n",
              "       7.5, 8. , 8.5, 9. , 9.5])"
            ]
          },
          "metadata": {},
          "execution_count": 9
        }
      ],
      "source": [
        "#membuat fungsi arange dengan awalan 1 samapi kurang dari 10 dengan kelipatan 0.5\n",
        "np.arange(1,10,0.5)"
      ]
    },
    {
      "cell_type": "markdown",
      "source": [
        "**Fungsi zeros and ones**\n",
        "\n",
        "membuat array zeros dan ones"
      ],
      "metadata": {
        "id": "IAKdFq-sCsyG"
      },
      "id": "IAKdFq-sCsyG"
    },
    {
      "cell_type": "code",
      "source": [
        "#membuat fungsi zeros\n",
        "np.zeros(3)\n"
      ],
      "metadata": {
        "colab": {
          "base_uri": "https://localhost:8080/"
        },
        "id": "WVyA1EaXCmCC",
        "outputId": "465e52c3-8214-4eac-8e00-13659cb55044"
      },
      "id": "WVyA1EaXCmCC",
      "execution_count": 10,
      "outputs": [
        {
          "output_type": "execute_result",
          "data": {
            "text/plain": [
              "array([0., 0., 0.])"
            ]
          },
          "metadata": {},
          "execution_count": 10
        }
      ]
    },
    {
      "cell_type": "code",
      "source": [
        "#membuat matriks 5x5 dengan fungsi zeros\n",
        "np.zeros((5,5))\n"
      ],
      "metadata": {
        "colab": {
          "base_uri": "https://localhost:8080/"
        },
        "id": "Put-57XAClsR",
        "outputId": "f32f0edf-4a1e-4391-d5ac-88514eb94ffc"
      },
      "id": "Put-57XAClsR",
      "execution_count": 11,
      "outputs": [
        {
          "output_type": "execute_result",
          "data": {
            "text/plain": [
              "array([[0., 0., 0., 0., 0.],\n",
              "       [0., 0., 0., 0., 0.],\n",
              "       [0., 0., 0., 0., 0.],\n",
              "       [0., 0., 0., 0., 0.],\n",
              "       [0., 0., 0., 0., 0.]])"
            ]
          },
          "metadata": {},
          "execution_count": 11
        }
      ]
    },
    {
      "cell_type": "code",
      "source": [
        "#membuat fungsi ones\n",
        "np.ones(3)"
      ],
      "metadata": {
        "colab": {
          "base_uri": "https://localhost:8080/"
        },
        "id": "P3aBPCDsDLOh",
        "outputId": "35797a2b-f011-4f55-fc7a-234cf43aefe7"
      },
      "id": "P3aBPCDsDLOh",
      "execution_count": 12,
      "outputs": [
        {
          "output_type": "execute_result",
          "data": {
            "text/plain": [
              "array([1., 1., 1.])"
            ]
          },
          "metadata": {},
          "execution_count": 12
        }
      ]
    },
    {
      "cell_type": "code",
      "source": [
        "#membuat matriks 3x3 dengan fungsi ones\n",
        "np.ones((3,3))\n"
      ],
      "metadata": {
        "colab": {
          "base_uri": "https://localhost:8080/"
        },
        "id": "JBIWo34VDK3n",
        "outputId": "371f0c17-262a-4caa-8856-1fb8d0b8a5a4"
      },
      "id": "JBIWo34VDK3n",
      "execution_count": 13,
      "outputs": [
        {
          "output_type": "execute_result",
          "data": {
            "text/plain": [
              "array([[1., 1., 1.],\n",
              "       [1., 1., 1.],\n",
              "       [1., 1., 1.]])"
            ]
          },
          "metadata": {},
          "execution_count": 13
        }
      ]
    },
    {
      "cell_type": "markdown",
      "source": [
        "**linspace**\n",
        "\n",
        "\n",
        "Mengembalikan angka dengan jarak yang sama selama interval yang ditentukan."
      ],
      "metadata": {
        "id": "qdHoFjIiDaQU"
      },
      "id": "qdHoFjIiDaQU"
    },
    {
      "cell_type": "code",
      "execution_count": 14,
      "id": "3c3017cd",
      "metadata": {
        "colab": {
          "base_uri": "https://localhost:8080/"
        },
        "id": "3c3017cd",
        "outputId": "490ac7d4-91d3-4f06-8eed-aead2ee45d47"
      },
      "outputs": [
        {
          "output_type": "execute_result",
          "data": {
            "text/plain": [
              "array([ 1.        ,  1.47368421,  1.94736842,  2.42105263,  2.89473684,\n",
              "        3.36842105,  3.84210526,  4.31578947,  4.78947368,  5.26315789,\n",
              "        5.73684211,  6.21052632,  6.68421053,  7.15789474,  7.63157895,\n",
              "        8.10526316,  8.57894737,  9.05263158,  9.52631579, 10.        ])"
            ]
          },
          "metadata": {},
          "execution_count": 14
        }
      ],
      "source": [
        "#membuat array dengan nilai 1 sampai dengan 10 dengan jumlah 20\n",
        "np.linspace(1,10,20)"
      ]
    },
    {
      "cell_type": "code",
      "execution_count": 15,
      "id": "ae7050f1",
      "metadata": {
        "colab": {
          "base_uri": "https://localhost:8080/"
        },
        "id": "ae7050f1",
        "outputId": "51c3b20b-bc84-4382-f934-8d84e375a21f"
      },
      "outputs": [
        {
          "output_type": "execute_result",
          "data": {
            "text/plain": [
              "array([  1.   ,   5.125,   9.25 ,  13.375,  17.5  ,  21.625,  25.75 ,\n",
              "        29.875,  34.   ,  38.125,  42.25 ,  46.375,  50.5  ,  54.625,\n",
              "        58.75 ,  62.875,  67.   ,  71.125,  75.25 ,  79.375,  83.5  ,\n",
              "        87.625,  91.75 ,  95.875, 100.   ])"
            ]
          },
          "metadata": {},
          "execution_count": 15
        }
      ],
      "source": [
        "#membuat array dengan nilai 1 sampai dengan 100 dengan jumlah 25\n",
        "np.linspace(1,100,25)"
      ]
    },
    {
      "cell_type": "code",
      "execution_count": 16,
      "id": "f41cd880",
      "metadata": {
        "colab": {
          "base_uri": "https://localhost:8080/"
        },
        "id": "f41cd880",
        "outputId": "fd5fea50-010b-47ef-f7b9-2b2f50fecfce"
      },
      "outputs": [
        {
          "output_type": "execute_result",
          "data": {
            "text/plain": [
              "array([   1.        ,   21.3877551 ,   41.7755102 ,   62.16326531,\n",
              "         82.55102041,  102.93877551,  123.32653061,  143.71428571,\n",
              "        164.10204082,  184.48979592,  204.87755102,  225.26530612,\n",
              "        245.65306122,  266.04081633,  286.42857143,  306.81632653,\n",
              "        327.20408163,  347.59183673,  367.97959184,  388.36734694,\n",
              "        408.75510204,  429.14285714,  449.53061224,  469.91836735,\n",
              "        490.30612245,  510.69387755,  531.08163265,  551.46938776,\n",
              "        571.85714286,  592.24489796,  612.63265306,  633.02040816,\n",
              "        653.40816327,  673.79591837,  694.18367347,  714.57142857,\n",
              "        734.95918367,  755.34693878,  775.73469388,  796.12244898,\n",
              "        816.51020408,  836.89795918,  857.28571429,  877.67346939,\n",
              "        898.06122449,  918.44897959,  938.83673469,  959.2244898 ,\n",
              "        979.6122449 , 1000.        ])"
            ]
          },
          "metadata": {},
          "execution_count": 16
        }
      ],
      "source": [
        "#membuat array dengan nilai 1 sampai dengan 1000 dengan jumlah default 50\n",
        "np.linspace(1,1000)"
      ]
    },
    {
      "cell_type": "markdown",
      "source": [
        "**Fungsi Eye**\n",
        "\n",
        "Membuat matriks identitas"
      ],
      "metadata": {
        "id": "7v1TUsxPEM3A"
      },
      "id": "7v1TUsxPEM3A"
    },
    {
      "cell_type": "code",
      "source": [
        "#membuat matrik identitas 4x4 dengan fungsi eye\n",
        "np.eye(4)"
      ],
      "metadata": {
        "colab": {
          "base_uri": "https://localhost:8080/"
        },
        "id": "MpWWhNkFEWaW",
        "outputId": "07044441-26ff-45b8-fea9-b0776df67f4c"
      },
      "id": "MpWWhNkFEWaW",
      "execution_count": 17,
      "outputs": [
        {
          "output_type": "execute_result",
          "data": {
            "text/plain": [
              "array([[1., 0., 0., 0.],\n",
              "       [0., 1., 0., 0.],\n",
              "       [0., 0., 1., 0.],\n",
              "       [0., 0., 0., 1.]])"
            ]
          },
          "metadata": {},
          "execution_count": 17
        }
      ]
    },
    {
      "cell_type": "markdown",
      "source": [
        "**Random**\n",
        "\n",
        "Numpy also has lots of ways to create random number arrays:\n",
        "\n",
        "***rand***\n",
        "\n",
        "Create an array of the given shape and populate it with random samples from a uniform distribution over [0,\n",
        "1) .\n"
      ],
      "metadata": {
        "id": "hWHuX69SEiiE"
      },
      "id": "hWHuX69SEiiE"
    },
    {
      "cell_type": "code",
      "execution_count": 19,
      "id": "059f2eee",
      "metadata": {
        "colab": {
          "base_uri": "https://localhost:8080/"
        },
        "id": "059f2eee",
        "outputId": "529f1043-54b7-40fb-e8e8-08f25644ba46"
      },
      "outputs": [
        {
          "output_type": "execute_result",
          "data": {
            "text/plain": [
              "array([7, 7, 5, 6, 9])"
            ]
          },
          "metadata": {},
          "execution_count": 19
        }
      ],
      "source": [
        "#membuat random nilai sebanyak 5 dengan randint (random integer) yang berarti nilai randomnya ber tipe data integer \n",
        "np.random.randint(1,10,5)"
      ]
    },
    {
      "cell_type": "code",
      "execution_count": 20,
      "id": "84ff1931",
      "metadata": {
        "colab": {
          "base_uri": "https://localhost:8080/"
        },
        "id": "84ff1931",
        "outputId": "228813cc-674e-4e1a-d221-aaf96f18d9e1"
      },
      "outputs": [
        {
          "output_type": "execute_result",
          "data": {
            "text/plain": [
              "array([7, 8, 6, 8, 5, 5, 5, 5, 5, 7])"
            ]
          },
          "metadata": {},
          "execution_count": 20
        }
      ],
      "source": [
        "#membuat random nilai sebanyak 10 dengan randint (random integer) yang berarti nilai randomnya ber tipe data integer. mulai dari 5 sampai dengan 10 \n",
        "np.random.randint(5,10,10)"
      ]
    },
    {
      "cell_type": "markdown",
      "source": [
        "**randn**\n",
        "\n",
        "Kembalikan sampel (atau sampel) dari distribusi \"standar normal\". Tidak seperti rand yang seragam:"
      ],
      "metadata": {
        "id": "OIlbQjvRGsd9"
      },
      "id": "OIlbQjvRGsd9"
    },
    {
      "cell_type": "code",
      "execution_count": 21,
      "id": "839bb1a8",
      "metadata": {
        "colab": {
          "base_uri": "https://localhost:8080/"
        },
        "id": "839bb1a8",
        "outputId": "944379ee-b3de-4f52-d238-c94ce818ebdf"
      },
      "outputs": [
        {
          "output_type": "execute_result",
          "data": {
            "text/plain": [
              "array([[ 1.17148437, -0.39540503,  0.44356164, -1.1539517 , -0.19939321],\n",
              "       [ 0.32714208,  0.54065155,  0.60338149,  0.26479611, -0.27530733],\n",
              "       [-0.16836873, -0.78405332, -1.30552788, -0.49732754, -0.87735778],\n",
              "       [ 1.16364781, -0.64779049,  0.79919588, -1.65658127, -1.62027078],\n",
              "       [ 2.08594587, -0.06310718,  0.30077951, -0.3915304 , -1.90172297]])"
            ]
          },
          "metadata": {},
          "execution_count": 21
        }
      ],
      "source": [
        "#membuat random nilai matriks 5x5 dengan randn (random dengan tipe data float)\n",
        "np.random.randn(5,5)"
      ]
    },
    {
      "cell_type": "markdown",
      "source": [
        "**Array Attributes and Methods**\n",
        "\n",
        "Mari kita bahas beberapa atribut dan metode atau array yang berguna:"
      ],
      "metadata": {
        "id": "6_Q9sKPjHbne"
      },
      "id": "6_Q9sKPjHbne"
    },
    {
      "cell_type": "code",
      "execution_count": 22,
      "id": "9f479279",
      "metadata": {
        "colab": {
          "base_uri": "https://localhost:8080/"
        },
        "id": "9f479279",
        "outputId": "a12bbaab-421d-41f1-87ac-36572af90764"
      },
      "outputs": [
        {
          "output_type": "stream",
          "name": "stdout",
          "text": [
            "[0 1 2 3 4 5 6 7 8 9]\n"
          ]
        }
      ],
      "source": [
        "#membuat variabel X dengan fungsi arange sebanyak 10\n",
        "x = np.arange(10)\n",
        "print(x)"
      ]
    },
    {
      "cell_type": "markdown",
      "source": [
        "**Reshape**\n",
        "\n",
        "Mengembalikan array yang berisi data yang sama dengan bentuk baru."
      ],
      "metadata": {
        "id": "TcNdSpZsHy_J"
      },
      "id": "TcNdSpZsHy_J"
    },
    {
      "cell_type": "code",
      "execution_count": 23,
      "id": "9606e4c0",
      "metadata": {
        "colab": {
          "base_uri": "https://localhost:8080/"
        },
        "id": "9606e4c0",
        "outputId": "827c4332-e970-4a08-f4d1-eaf1db60e370"
      },
      "outputs": [
        {
          "output_type": "execute_result",
          "data": {
            "text/plain": [
              "array([[0, 1],\n",
              "       [2, 3],\n",
              "       [4, 5],\n",
              "       [6, 7],\n",
              "       [8, 9]])"
            ]
          },
          "metadata": {},
          "execution_count": 23
        }
      ],
      "source": [
        "#membuat fungsi reshape dengan nilai x yang ada di sebelumnya\n",
        "x.reshape(5,2)"
      ]
    },
    {
      "cell_type": "markdown",
      "source": [
        "**max,min,argmax,argmin**\n",
        "\n",
        "Ini adalah metode yang berguna untuk menemukan nilai maks atau min. Atau untuk menemukan lokasi indeks mereka menggunakan argmin atau argmax"
      ],
      "metadata": {
        "id": "lGqCANrkIKc5"
      },
      "id": "lGqCANrkIKc5"
    },
    {
      "cell_type": "code",
      "execution_count": 24,
      "id": "e1c6e483",
      "metadata": {
        "colab": {
          "base_uri": "https://localhost:8080/"
        },
        "id": "e1c6e483",
        "outputId": "15f6eda5-2d40-4564-d3dc-a9e9847850f7"
      },
      "outputs": [
        {
          "output_type": "execute_result",
          "data": {
            "text/plain": [
              "9"
            ]
          },
          "metadata": {},
          "execution_count": 24
        }
      ],
      "source": [
        "#mencari nilai maksimal dari X\n",
        "x.max()"
      ]
    },
    {
      "cell_type": "code",
      "execution_count": 25,
      "id": "9e70f78e",
      "metadata": {
        "colab": {
          "base_uri": "https://localhost:8080/"
        },
        "id": "9e70f78e",
        "outputId": "3c9ea5b7-489d-40b2-b589-c59fdf4b4422"
      },
      "outputs": [
        {
          "output_type": "execute_result",
          "data": {
            "text/plain": [
              "0"
            ]
          },
          "metadata": {},
          "execution_count": 25
        }
      ],
      "source": [
        "#mencari nilai minimal dari X\n",
        "x.min()"
      ]
    },
    {
      "cell_type": "code",
      "execution_count": 26,
      "id": "26f7a43e",
      "metadata": {
        "colab": {
          "base_uri": "https://localhost:8080/"
        },
        "id": "26f7a43e",
        "outputId": "8af1122e-4d04-4557-8ed2-4b3d5ad3272b"
      },
      "outputs": [
        {
          "output_type": "execute_result",
          "data": {
            "text/plain": [
              "array([0.22194228, 0.16417143, 0.40712797, 0.22235596, 0.39075343])"
            ]
          },
          "metadata": {},
          "execution_count": 26
        }
      ],
      "source": [
        "#membuat array random dengan fungsi randn untuk variabel Y \n",
        "y = np.random.rand(5)\n",
        "y"
      ]
    },
    {
      "cell_type": "code",
      "execution_count": 27,
      "id": "269e4243",
      "metadata": {
        "colab": {
          "base_uri": "https://localhost:8080/"
        },
        "id": "269e4243",
        "outputId": "27c97157-3273-43d1-874b-ed356bb72e7d"
      },
      "outputs": [
        {
          "output_type": "execute_result",
          "data": {
            "text/plain": [
              "0.4071279742577465"
            ]
          },
          "metadata": {},
          "execution_count": 27
        }
      ],
      "source": [
        "#mencari nilai maksimal dari y\n",
        "y.max()"
      ]
    },
    {
      "cell_type": "code",
      "execution_count": 28,
      "id": "a2745461",
      "metadata": {
        "colab": {
          "base_uri": "https://localhost:8080/"
        },
        "id": "a2745461",
        "outputId": "5b4faded-39a0-4afb-8eda-b62b8bc5f02c"
      },
      "outputs": [
        {
          "output_type": "execute_result",
          "data": {
            "text/plain": [
              "2"
            ]
          },
          "metadata": {},
          "execution_count": 28
        }
      ],
      "source": [
        "#mecari index dari nilai maksimal\n",
        "y.argmax()"
      ]
    },
    {
      "cell_type": "code",
      "execution_count": 29,
      "id": "c579df27",
      "metadata": {
        "colab": {
          "base_uri": "https://localhost:8080/"
        },
        "id": "c579df27",
        "outputId": "4683aac7-a8fd-44e2-8293-2234421c854a"
      },
      "outputs": [
        {
          "output_type": "execute_result",
          "data": {
            "text/plain": [
              "array([[0.35316289, 0.39262044, 0.08425454],\n",
              "       [0.11933735, 0.7302718 , 0.49080656],\n",
              "       [0.52500101, 0.07591267, 0.33118246]])"
            ]
          },
          "metadata": {},
          "execution_count": 29
        }
      ],
      "source": [
        "#membuat matriks dengan fungsi random randn untuk variabel z\n",
        "z = np.random.rand(3,3)\n",
        "z"
      ]
    },
    {
      "cell_type": "code",
      "execution_count": 30,
      "id": "80bfa930",
      "metadata": {
        "colab": {
          "base_uri": "https://localhost:8080/"
        },
        "id": "80bfa930",
        "outputId": "ae7f99a1-ad88-4e2c-aae1-a6d01815a290"
      },
      "outputs": [
        {
          "output_type": "execute_result",
          "data": {
            "text/plain": [
              "0.7302717974156764"
            ]
          },
          "metadata": {},
          "execution_count": 30
        }
      ],
      "source": [
        "#mencari nilai maksimal untuk variabel z\n",
        "z.max()"
      ]
    },
    {
      "cell_type": "code",
      "execution_count": 31,
      "id": "09e7cdce",
      "metadata": {
        "colab": {
          "base_uri": "https://localhost:8080/"
        },
        "id": "09e7cdce",
        "outputId": "bce1bf14-6fb0-4f63-809a-63edd5294819"
      },
      "outputs": [
        {
          "output_type": "execute_result",
          "data": {
            "text/plain": [
              "4"
            ]
          },
          "metadata": {},
          "execution_count": 31
        }
      ],
      "source": [
        "#mencari index dari nilai maksimal\n",
        "z.argmax()"
      ]
    },
    {
      "cell_type": "code",
      "execution_count": 32,
      "id": "4265dc90",
      "metadata": {
        "colab": {
          "base_uri": "https://localhost:8080/"
        },
        "id": "4265dc90",
        "outputId": "6b4f844f-1385-4948-adf8-46b45cab641e"
      },
      "outputs": [
        {
          "output_type": "execute_result",
          "data": {
            "text/plain": [
              "0.07591266732453872"
            ]
          },
          "metadata": {},
          "execution_count": 32
        }
      ],
      "source": [
        "#mencari nilai minimal\n",
        "z.min()"
      ]
    },
    {
      "cell_type": "code",
      "execution_count": 33,
      "id": "6d31ae7b",
      "metadata": {
        "colab": {
          "base_uri": "https://localhost:8080/"
        },
        "id": "6d31ae7b",
        "outputId": "32417f98-776b-496a-c399-2ec1b2984106"
      },
      "outputs": [
        {
          "output_type": "execute_result",
          "data": {
            "text/plain": [
              "7"
            ]
          },
          "metadata": {},
          "execution_count": 33
        }
      ],
      "source": [
        "#mencari index dari nilai minimal\n",
        "z.argmin()"
      ]
    },
    {
      "cell_type": "code",
      "execution_count": 34,
      "id": "8e943b42",
      "metadata": {
        "colab": {
          "base_uri": "https://localhost:8080/"
        },
        "id": "8e943b42",
        "outputId": "0302acb6-7f8b-4dad-b6c8-e7435c82f670"
      },
      "outputs": [
        {
          "output_type": "execute_result",
          "data": {
            "text/plain": [
              "dtype('float64')"
            ]
          },
          "metadata": {},
          "execution_count": 34
        }
      ],
      "source": [
        "#mencari type data dari variabel Z\n",
        "z.dtype"
      ]
    },
    {
      "cell_type": "code",
      "execution_count": 35,
      "id": "f77dd544",
      "metadata": {
        "colab": {
          "base_uri": "https://localhost:8080/"
        },
        "id": "f77dd544",
        "outputId": "013f33a3-3627-4810-a113-63631572c008"
      },
      "outputs": [
        {
          "output_type": "execute_result",
          "data": {
            "text/plain": [
              "dtype('float64')"
            ]
          },
          "metadata": {},
          "execution_count": 35
        }
      ],
      "source": [
        "#mencari type data dari variabel Y\n",
        "y.dtype"
      ]
    },
    {
      "cell_type": "code",
      "execution_count": 36,
      "id": "31ec3776",
      "metadata": {
        "colab": {
          "base_uri": "https://localhost:8080/"
        },
        "id": "31ec3776",
        "outputId": "2c0a6e04-a09c-4990-fec2-9cbb2f32d958"
      },
      "outputs": [
        {
          "output_type": "execute_result",
          "data": {
            "text/plain": [
              "dtype('int64')"
            ]
          },
          "metadata": {},
          "execution_count": 36
        }
      ],
      "source": [
        "#mencari type data dari variabel X\n",
        "x.dtype"
      ]
    },
    {
      "cell_type": "code",
      "execution_count": null,
      "id": "30bc0feb",
      "metadata": {
        "id": "30bc0feb"
      },
      "outputs": [],
      "source": [
        "#randn : desimal (+/-)\n",
        "#rand : desimal (+)\n",
        "#randint : bilangan bulat"
      ]
    },
    {
      "cell_type": "code",
      "execution_count": 37,
      "id": "812605da",
      "metadata": {
        "id": "812605da"
      },
      "outputs": [],
      "source": [
        "arr = np.random.rand(5)"
      ]
    },
    {
      "cell_type": "code",
      "execution_count": 38,
      "id": "8f53f4c2",
      "metadata": {
        "colab": {
          "base_uri": "https://localhost:8080/"
        },
        "id": "8f53f4c2",
        "outputId": "d6502673-039d-40a4-c81e-b56f45f76cb8"
      },
      "outputs": [
        {
          "output_type": "execute_result",
          "data": {
            "text/plain": [
              "array([0.39145667, 0.36573527, 0.27262109, 0.10799156, 0.30908766])"
            ]
          },
          "metadata": {},
          "execution_count": 38
        }
      ],
      "source": [
        "arr"
      ]
    },
    {
      "cell_type": "code",
      "execution_count": 39,
      "id": "86dd2fff",
      "metadata": {
        "colab": {
          "base_uri": "https://localhost:8080/"
        },
        "id": "86dd2fff",
        "outputId": "41b082aa-5370-40a4-9252-8c2b8fe5cf80"
      },
      "outputs": [
        {
          "output_type": "execute_result",
          "data": {
            "text/plain": [
              "0.2726210880068939"
            ]
          },
          "metadata": {},
          "execution_count": 39
        }
      ],
      "source": [
        "arr[2]"
      ]
    },
    {
      "cell_type": "code",
      "execution_count": 40,
      "id": "d793d7ac",
      "metadata": {
        "colab": {
          "base_uri": "https://localhost:8080/"
        },
        "id": "d793d7ac",
        "outputId": "c0eac260-7036-4feb-c58c-cbb2a602edd4"
      },
      "outputs": [
        {
          "output_type": "execute_result",
          "data": {
            "text/plain": [
              "array([0.39145667, 0.36573527])"
            ]
          },
          "metadata": {},
          "execution_count": 40
        }
      ],
      "source": [
        "arr[0:2]"
      ]
    },
    {
      "cell_type": "code",
      "execution_count": 41,
      "id": "1526864a",
      "metadata": {
        "colab": {
          "base_uri": "https://localhost:8080/"
        },
        "id": "1526864a",
        "outputId": "09976061-0e9f-47bf-e54a-d72b92460b35"
      },
      "outputs": [
        {
          "output_type": "execute_result",
          "data": {
            "text/plain": [
              "array([ 0.39145667, 10.        , 10.        , 10.        ,  0.30908766])"
            ]
          },
          "metadata": {},
          "execution_count": 41
        }
      ],
      "source": [
        "arr[1:4]=10\n",
        "arr"
      ]
    },
    {
      "cell_type": "code",
      "execution_count": 42,
      "id": "da6a157b",
      "metadata": {
        "id": "da6a157b"
      },
      "outputs": [],
      "source": [
        "potongan_arr = arr[1:4]"
      ]
    },
    {
      "cell_type": "code",
      "execution_count": 43,
      "id": "7cb49b35",
      "metadata": {
        "colab": {
          "base_uri": "https://localhost:8080/"
        },
        "id": "7cb49b35",
        "outputId": "6698901c-a411-4744-af98-8a6e2b18fec8"
      },
      "outputs": [
        {
          "output_type": "execute_result",
          "data": {
            "text/plain": [
              "array([10., 10., 10.])"
            ]
          },
          "metadata": {},
          "execution_count": 43
        }
      ],
      "source": [
        "potongan_arr"
      ]
    },
    {
      "cell_type": "code",
      "execution_count": 44,
      "id": "1a732eba",
      "metadata": {
        "colab": {
          "base_uri": "https://localhost:8080/"
        },
        "id": "1a732eba",
        "outputId": "09b83750-afe4-4a88-e947-e7428d2eb910"
      },
      "outputs": [
        {
          "output_type": "execute_result",
          "data": {
            "text/plain": [
              "array([ 0.39145667, 10.        , 10.        , 10.        ,  0.30908766])"
            ]
          },
          "metadata": {},
          "execution_count": 44
        }
      ],
      "source": [
        "arr"
      ]
    },
    {
      "cell_type": "code",
      "execution_count": 45,
      "id": "5d4aaa16",
      "metadata": {
        "colab": {
          "base_uri": "https://localhost:8080/"
        },
        "id": "5d4aaa16",
        "outputId": "18419afe-980d-413c-98b3-eeb4744c97c2"
      },
      "outputs": [
        {
          "output_type": "execute_result",
          "data": {
            "text/plain": [
              "array([100., 100., 100.])"
            ]
          },
          "metadata": {},
          "execution_count": 45
        }
      ],
      "source": [
        "potongan_arr[:]=100\n",
        "potongan_arr"
      ]
    },
    {
      "cell_type": "code",
      "execution_count": 46,
      "id": "b9e58172",
      "metadata": {
        "colab": {
          "base_uri": "https://localhost:8080/"
        },
        "id": "b9e58172",
        "outputId": "04ab996a-eb79-474f-9c44-84c95aff92c0"
      },
      "outputs": [
        {
          "output_type": "execute_result",
          "data": {
            "text/plain": [
              "array([  0.39145667, 100.        , 100.        , 100.        ,\n",
              "         0.30908766])"
            ]
          },
          "metadata": {},
          "execution_count": 46
        }
      ],
      "source": [
        "arr"
      ]
    },
    {
      "cell_type": "code",
      "execution_count": 47,
      "id": "5d7d204f",
      "metadata": {
        "colab": {
          "base_uri": "https://localhost:8080/"
        },
        "id": "5d7d204f",
        "outputId": "33c8d9f8-baf6-40e6-d540-f0db1101c878"
      },
      "outputs": [
        {
          "output_type": "execute_result",
          "data": {
            "text/plain": [
              "array([100.,  50., 100.])"
            ]
          },
          "metadata": {},
          "execution_count": 47
        }
      ],
      "source": [
        "potongan_arr[1:2]=50\n",
        "potongan_arr"
      ]
    },
    {
      "cell_type": "code",
      "execution_count": 48,
      "id": "77593d6e",
      "metadata": {
        "colab": {
          "base_uri": "https://localhost:8080/"
        },
        "id": "77593d6e",
        "outputId": "20583076-41cc-43d5-d81a-52fd260591a0"
      },
      "outputs": [
        {
          "output_type": "execute_result",
          "data": {
            "text/plain": [
              "array([  0.39145667, 100.        ,  50.        , 100.        ,\n",
              "         0.30908766])"
            ]
          },
          "metadata": {},
          "execution_count": 48
        }
      ],
      "source": [
        "arr"
      ]
    },
    {
      "cell_type": "code",
      "execution_count": 49,
      "id": "de3d05f4",
      "metadata": {
        "colab": {
          "base_uri": "https://localhost:8080/"
        },
        "id": "de3d05f4",
        "outputId": "72c15441-8a4e-4fe9-f837-10a9acb4a429"
      },
      "outputs": [
        {
          "output_type": "execute_result",
          "data": {
            "text/plain": [
              "array([[11, 12, 13],\n",
              "       [21, 22, 23],\n",
              "       [31, 32, 33]])"
            ]
          },
          "metadata": {},
          "execution_count": 49
        }
      ],
      "source": [
        "matriks = np.array([[11,12,13],[21,22,23],[31,32,33]])\n",
        "matriks"
      ]
    },
    {
      "cell_type": "code",
      "execution_count": 50,
      "id": "db3c599f",
      "metadata": {
        "colab": {
          "base_uri": "https://localhost:8080/"
        },
        "id": "db3c599f",
        "outputId": "8922cb82-6cd3-446d-80c8-413bfb81343a"
      },
      "outputs": [
        {
          "output_type": "execute_result",
          "data": {
            "text/plain": [
              "array([[21, 22, 23],\n",
              "       [31, 32, 33]])"
            ]
          },
          "metadata": {},
          "execution_count": 50
        }
      ],
      "source": [
        "matriks[1:3]"
      ]
    },
    {
      "cell_type": "code",
      "execution_count": 51,
      "id": "fc57ccbe",
      "metadata": {
        "colab": {
          "base_uri": "https://localhost:8080/"
        },
        "id": "fc57ccbe",
        "outputId": "28b96ba9-06bb-438a-e423-a33861d2ff62"
      },
      "outputs": [
        {
          "output_type": "execute_result",
          "data": {
            "text/plain": [
              "23"
            ]
          },
          "metadata": {},
          "execution_count": 51
        }
      ],
      "source": [
        "matriks[1][2]"
      ]
    },
    {
      "cell_type": "code",
      "execution_count": 52,
      "id": "6ff0676b",
      "metadata": {
        "colab": {
          "base_uri": "https://localhost:8080/"
        },
        "id": "6ff0676b",
        "outputId": "2c0eecb6-55cc-4146-e00b-ebed3d6421f7"
      },
      "outputs": [
        {
          "output_type": "execute_result",
          "data": {
            "text/plain": [
              "32"
            ]
          },
          "metadata": {},
          "execution_count": 52
        }
      ],
      "source": [
        "matriks[2][1]"
      ]
    },
    {
      "cell_type": "code",
      "execution_count": 53,
      "id": "1269d41c",
      "metadata": {
        "colab": {
          "base_uri": "https://localhost:8080/"
        },
        "id": "1269d41c",
        "outputId": "7301788e-0b58-47e3-b34b-e35ee7801508"
      },
      "outputs": [
        {
          "output_type": "execute_result",
          "data": {
            "text/plain": [
              "array([0, 1, 2, 3, 4, 5, 6, 7, 8, 9])"
            ]
          },
          "metadata": {},
          "execution_count": 53
        }
      ],
      "source": [
        "x"
      ]
    },
    {
      "cell_type": "code",
      "execution_count": 54,
      "id": "61798e94",
      "metadata": {
        "colab": {
          "base_uri": "https://localhost:8080/"
        },
        "id": "61798e94",
        "outputId": "cd7909aa-6733-41cd-f407-303320318863"
      },
      "outputs": [
        {
          "output_type": "execute_result",
          "data": {
            "text/plain": [
              "array([False, False, False, False, False, False,  True,  True,  True,\n",
              "        True])"
            ]
          },
          "metadata": {},
          "execution_count": 54
        }
      ],
      "source": [
        "#boolean\n",
        "x > 5"
      ]
    },
    {
      "cell_type": "code",
      "execution_count": 55,
      "id": "1ae61849",
      "metadata": {
        "id": "1ae61849"
      },
      "outputs": [],
      "source": [
        "var1 = np.array([4,5,6])"
      ]
    },
    {
      "cell_type": "code",
      "execution_count": 56,
      "id": "ac66bcc0",
      "metadata": {
        "id": "ac66bcc0"
      },
      "outputs": [],
      "source": [
        "var2 = np.array([7,8,9])"
      ]
    },
    {
      "cell_type": "code",
      "execution_count": 57,
      "id": "78c666ce",
      "metadata": {
        "colab": {
          "base_uri": "https://localhost:8080/"
        },
        "id": "78c666ce",
        "outputId": "b7c983cb-ffff-41bd-e730-f36e8ebb1fac"
      },
      "outputs": [
        {
          "output_type": "execute_result",
          "data": {
            "text/plain": [
              "array([11, 13, 15])"
            ]
          },
          "metadata": {},
          "execution_count": 57
        }
      ],
      "source": [
        "var1+var2"
      ]
    },
    {
      "cell_type": "code",
      "execution_count": 58,
      "id": "a402dd29",
      "metadata": {
        "id": "a402dd29"
      },
      "outputs": [],
      "source": [
        "var3 = np.arange(10)"
      ]
    },
    {
      "cell_type": "code",
      "execution_count": 59,
      "id": "2799924b",
      "metadata": {
        "colab": {
          "base_uri": "https://localhost:8080/"
        },
        "id": "2799924b",
        "outputId": "f0289334-7e35-4d25-cc72-f45c1dc582a5"
      },
      "outputs": [
        {
          "output_type": "execute_result",
          "data": {
            "text/plain": [
              "array([0, 1, 2, 3, 4, 5, 6, 7, 8, 9])"
            ]
          },
          "metadata": {},
          "execution_count": 59
        }
      ],
      "source": [
        "var3"
      ]
    },
    {
      "cell_type": "code",
      "execution_count": 60,
      "id": "65217b6c",
      "metadata": {
        "colab": {
          "base_uri": "https://localhost:8080/"
        },
        "id": "65217b6c",
        "outputId": "367cd058-643d-44bc-9cd0-f6418410a65f"
      },
      "outputs": [
        {
          "output_type": "execute_result",
          "data": {
            "text/plain": [
              "array([[0, 1, 2, 3, 4],\n",
              "       [5, 6, 7, 8, 9]])"
            ]
          },
          "metadata": {},
          "execution_count": 60
        }
      ],
      "source": [
        "var3.reshape(2,5)"
      ]
    },
    {
      "cell_type": "code",
      "execution_count": 61,
      "id": "744aaa7d",
      "metadata": {
        "id": "744aaa7d"
      },
      "outputs": [],
      "source": [
        "var4 = np.arange(10,20)"
      ]
    },
    {
      "cell_type": "code",
      "execution_count": 62,
      "id": "f5a9ce67",
      "metadata": {
        "colab": {
          "base_uri": "https://localhost:8080/"
        },
        "id": "f5a9ce67",
        "outputId": "241652d5-96c5-49c9-e8d7-36964f986864"
      },
      "outputs": [
        {
          "output_type": "execute_result",
          "data": {
            "text/plain": [
              "array([10, 11, 12, 13, 14, 15, 16, 17, 18, 19])"
            ]
          },
          "metadata": {},
          "execution_count": 62
        }
      ],
      "source": [
        "var4"
      ]
    },
    {
      "cell_type": "code",
      "execution_count": 63,
      "id": "f540dead",
      "metadata": {
        "colab": {
          "base_uri": "https://localhost:8080/"
        },
        "id": "f540dead",
        "outputId": "c64a371c-4770-4c05-b273-a364828fcb1e"
      },
      "outputs": [
        {
          "output_type": "execute_result",
          "data": {
            "text/plain": [
              "array([[10, 11, 12, 13, 14],\n",
              "       [15, 16, 17, 18, 19]])"
            ]
          },
          "metadata": {},
          "execution_count": 63
        }
      ],
      "source": [
        "var4.reshape(2,5)"
      ]
    },
    {
      "cell_type": "code",
      "execution_count": 64,
      "id": "8fe5c3bd",
      "metadata": {
        "colab": {
          "base_uri": "https://localhost:8080/"
        },
        "id": "8fe5c3bd",
        "outputId": "1afca0fc-9ff7-4103-b238-7d1ae784a564"
      },
      "outputs": [
        {
          "output_type": "execute_result",
          "data": {
            "text/plain": [
              "array([10, 12, 14, 16, 18, 20, 22, 24, 26, 28])"
            ]
          },
          "metadata": {},
          "execution_count": 64
        }
      ],
      "source": [
        "var5 = var3+var4\n",
        "var5"
      ]
    },
    {
      "cell_type": "code",
      "execution_count": 65,
      "id": "ab7dc1e2",
      "metadata": {
        "colab": {
          "base_uri": "https://localhost:8080/"
        },
        "id": "ab7dc1e2",
        "outputId": "30a50c28-64ba-442f-8d79-ce5c22ba7db2"
      },
      "outputs": [
        {
          "output_type": "execute_result",
          "data": {
            "text/plain": [
              "array([[10, 12, 14, 16, 18],\n",
              "       [20, 22, 24, 26, 28]])"
            ]
          },
          "metadata": {},
          "execution_count": 65
        }
      ],
      "source": [
        "var5.reshape(2,5)"
      ]
    },
    {
      "cell_type": "code",
      "execution_count": null,
      "id": "44fddcfc",
      "metadata": {
        "id": "44fddcfc"
      },
      "outputs": [],
      "source": []
    }
  ],
  "metadata": {
    "kernelspec": {
      "display_name": "Python 3 (ipykernel)",
      "language": "python",
      "name": "python3"
    },
    "language_info": {
      "codemirror_mode": {
        "name": "ipython",
        "version": 3
      },
      "file_extension": ".py",
      "mimetype": "text/x-python",
      "name": "python",
      "nbconvert_exporter": "python",
      "pygments_lexer": "ipython3",
      "version": "3.10.8"
    },
    "colab": {
      "provenance": []
    }
  },
  "nbformat": 4,
  "nbformat_minor": 5
}
